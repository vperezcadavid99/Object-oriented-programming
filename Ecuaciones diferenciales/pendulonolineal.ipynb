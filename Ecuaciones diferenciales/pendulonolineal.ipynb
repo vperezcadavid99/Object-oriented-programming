{
 "cells": [
  {
   "cell_type": "markdown",
   "metadata": {},
   "source": [
    "## Péndulo no lineal\n",
    "\n",
    "Como aplicación del algoritmo de Runge-Kutta, se considera el problema de un péndulo no lineal. Para\n",
    "un péndulo de longitud constante l, la ecuación de movimiento para el desplazamiento angular u con respecto\n",
    "a la vertical que pasa por el punto de suspensión es una EDO no lineal de segundo orden:\n",
    "\n",
    "$${u}'' = - \\frac{g}{l} sin(u)$$\n",
    "\n",
    "sujeto a las condiciones iniciales:\n",
    "\n",
    "$$u(0) = u_0 $$\n",
    "$${u}'(0) = 0$$"
   ]
  },
  {
   "cell_type": "code",
   "execution_count": 2,
   "metadata": {},
   "outputs": [],
   "source": [
    "import numpy as np\n",
    "import matplotlib.pyplot as plt\n",
    "\n",
    "# Creación de la clase\n",
    "class Pendulonolineal:\n",
    "    # Inicialización. Se definen los atributos de: h, u0, v0, ti,tf\n",
    "    def __init__(self,h,u0,v0,ti,tf): \n",
    "        self.h = h \n",
    "        self.u0 = u0 \n",
    "        self.v0 = v0\n",
    "        self.ti = ti\n",
    "        self.tf = tf\n",
    "        \n",
    "\n",
    "    # Se crea en método \"funct\" un método para conseguir dos ecuaciones diferenciales de primer orden.\n",
    "    def funct(self,t,y): # y corresponde a un arreglo que contiene las posiciones y las velocidades\n",
    "        g = 9.8\n",
    "        l = 1\n",
    "        k = 0\n",
    "        self.t = t\n",
    "        f1 = y[1]\n",
    "        f2 = -g/l * np.sin(y[0]) - k * y[1]\n",
    "        a = np.array([f1,f2])\n",
    "\n",
    "        return a \n",
    "        \n",
    "    # Implementación de RK4. El método tiene como parámetro la variable con coordenadas y velocidades\n",
    "    def RungeKutta(self,CVvect):\n",
    "        self.t = self.ti\n",
    "        \n",
    "        self.k1 = self.h * self.funct(self.t,CVvect )\n",
    "        self.k2 = self.h * self.funct(self.t + 0.5 * self.h , CVvect + 0.5 * self.k1)\n",
    "        self.k3 = self.h * self.funct(self.t + 0.5 * self.h , CVvect + 0.5 * self.k2)\n",
    "        self.k4 = self.h * self.funct(self.t + self.h , CVvect + self.k3)\n",
    "        self.a0 = CVvect + 1/6 * ( self.k1 + 2 * self.k2 + 2 * self.k3 + self.k4 )\n",
    "    \n",
    "        return self.a0 \n",
    "\n",
    "    \n",
    "    #  Se crea el método \"DesplazamientoAngular\" para calcular las posiciones y velocidaades\n",
    "    def DesplazamientoAngular(self):\n",
    "        \n",
    "        # Se inicializa el contador y un parámetro k para el while\n",
    "        k = self.ti\n",
    "        i = 0\n",
    "        n = round(( self.tf - self.ti) / self.h ) # Longuitud del intervalo\n",
    "        Y = np.zeros( (2, n) ) # Se define la dimensión del arreglo de posiciones y velocidades Y\n",
    "        CVvect= np.array( [self.u0, self.v0] )\n",
    "    \n",
    "    # Ciclo for para el cálculo de las coordenadas\n",
    "        for j in np.arange(self.ti, self.tf, self.h):\n",
    "            \n",
    "            Y[:,i] = CVvect  \n",
    "            CVvect = self.RungeKutta(CVvect) # Va creando vector posiciones y velocidades a partir del método definido \"RungeKutta\"\n",
    "            k = k + self.h\n",
    "            i = i + 1\n",
    "        \n",
    "        usol = Y[0] # Arreglo final de posiciones\n",
    "        vsol = Y[1] # Arreglo final de velocidades\n",
    "\n",
    "        return usol"
   ]
  },
  {
   "cell_type": "code",
   "execution_count": null,
   "metadata": {},
   "outputs": [],
   "source": []
  }
 ],
 "metadata": {
  "kernelspec": {
   "display_name": "Python 3",
   "language": "python",
   "name": "python3"
  },
  "language_info": {
   "codemirror_mode": {
    "name": "ipython",
    "version": 3
   },
   "file_extension": ".py",
   "mimetype": "text/x-python",
   "name": "python",
   "nbconvert_exporter": "python",
   "pygments_lexer": "ipython3",
   "version": "3.8.3"
  }
 },
 "nbformat": 4,
 "nbformat_minor": 4
}
