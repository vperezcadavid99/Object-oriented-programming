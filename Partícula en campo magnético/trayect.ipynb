{
 "cells": [
  {
   "cell_type": "markdown",
   "metadata": {},
   "source": [
    "Se implementa una clase para la construcción de la trayectoria seguida por la partícula"
   ]
  },
  {
   "cell_type": "code",
   "execution_count": null,
   "metadata": {},
   "outputs": [],
   "source": [
    "import numpy as np\n",
    "import matplotlib as plt\n",
    "\n",
    "# Se define la clase.\n",
    "class Trayect:\n",
    "    # Inicialización.\n",
    "    def __init__(self,B,ek,theta,m,q,t):\n",
    "        self.B=B\n",
    "        self.ek=ek\n",
    "        self.theta=theta\n",
    "        self.m=m\n",
    "        self.q=q\n",
    "        self.t=t\n",
    "    # Se definen métodos para las coordenadas y las velocidades\n",
    "    def vx(self):\n",
    "        v0= np.sqrt(2*self.ek/self.m)\n",
    "        wc=(self.q*self.B)/self.m\n",
    "        return v0*np.sin(self.theta)*np.cos(wc*self.t)\n",
    "    def x(self):\n",
    "        v0= np.sqrt(2*self.ek/self.m)\n",
    "        wc=(self.q*self.B)/self.m\n",
    "        return v0*np.sin(self.theta)/wc * np.sin(wc*self.t)\n",
    "    def vy(self):\n",
    "        v0= np.sqrt(2*self.ek/self.m)\n",
    "        wc=(self.q*self.B)/self.m\n",
    "        return -v0*np.sin(self.theta) * np.sin(wc*self.t)\n",
    "    def y(self):\n",
    "        v0= np.sqrt(2*self.ek/self.m)\n",
    "        wc=(self.q*self.B)/self.m\n",
    "        return v0*np.sin(self.theta)/wc * (np.cos(wc*self.t)-1)\n",
    "    def vz(self):\n",
    "        v0= np.sqrt(2*self.ek/self.m)\n",
    "        return v0*np.cos(self.theta)\n",
    "    def z(self):\n",
    "        v0= np.sqrt(2*self.ek/self.m)\n",
    "        return v0*np.cos(self.theta)*self.t\n",
    "    # Se define el método \"heli\" para visualizar la trayectoria.\n",
    "    def heli(self):\n",
    "        wc=(self.q*self.B)/self.m\n",
    "        v0= np.sqrt(2*self.ek/self.m)\n",
    "        return np.sqrt((v0*np.sin(self.theta)/wc)**2 - (self.y()+v0*np.sin(self.theta)/wc)**2) , -np.sqrt((v0*np.sin(self.theta)/wc)**2 - (self.y()+v0*np.sin(self.theta)/wc)**2)\n",
    "    \n",
    "\n",
    "\n",
    "\n"
   ]
  }
 ],
 "metadata": {
  "kernelspec": {
   "display_name": "Python 3",
   "language": "python",
   "name": "python3"
  },
  "language_info": {
   "codemirror_mode": {
    "name": "ipython",
    "version": 3
   },
   "file_extension": ".py",
   "mimetype": "text/x-python",
   "name": "python",
   "nbconvert_exporter": "python",
   "pygments_lexer": "ipython3",
   "version": "3.8.3"
  }
 },
 "nbformat": 4,
 "nbformat_minor": 4
}
