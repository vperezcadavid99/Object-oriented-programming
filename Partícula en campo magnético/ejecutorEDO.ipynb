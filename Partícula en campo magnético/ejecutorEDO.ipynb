{
 "cells": [
  {
   "cell_type": "code",
   "execution_count": null,
   "metadata": {},
   "outputs": [],
   "source": [
    "# Se importa el archivo de clases y librerías.\n",
    "\n",
    "import EDO as EDO\n",
    "import numpy as np\n",
    "import sympy as sp\n",
    "sp.init_printing()\n",
    "\n",
    "# Inicialización.\n",
    "if __name__=='__main__':\n",
    "    print('Inicialización')\n",
    "\n",
    "# Se definen algunas funciones. \n",
    "\n",
    "def f2(x,y):\n",
    "    return y*(x)**(0.5)\n",
    "\n",
    "def f3(x,y):\n",
    "    return 2*x*y\n",
    "\n",
    "def f4(x,y):\n",
    "    return 2*y +x\n",
    "\n",
    "\n",
    "# Se crean los objetos para implementar con la clase métodos\n",
    "\n",
    "respf2=EDO.Metodos(0.001,0,2,0,1,f2,1.5)\n",
    "respf3= EDO.Metodos(0.1,0,5,1,1,f3,2)\n",
    "respf4= EDO.Metodos(1,0,5,1,1,f4,2.5)\n",
    "\n",
    "# Se imprimen los resultados. \n",
    "\n",
    "#print(respf2.meuler())\n",
    "#print(respf2.rk4())\n",
    "#print(respf3.meuler())\n",
    "print(respf3.rk4())\n",
    "\n",
    "\n",
    "# Implementación del método analítico con Sympy con la función sugerida f3\n",
    "x = sp.symbols('x')\n",
    "y = sp.Function('y')(x)\n",
    "dydx = y.diff(x)\n",
    "expr = sp.Eq(dydx, f3(x,y))\n",
    "print(\"La solución por método analítico Sympy es: {}\".format(sp.dsolve(expr)))"
   ]
  }
 ],
 "metadata": {
  "kernelspec": {
   "display_name": "Python 3",
   "language": "python",
   "name": "python3"
  },
  "language_info": {
   "codemirror_mode": {
    "name": "ipython",
    "version": 3
   },
   "file_extension": ".py",
   "mimetype": "text/x-python",
   "name": "python",
   "nbconvert_exporter": "python",
   "pygments_lexer": "ipython3",
   "version": "3.8.3"
  }
 },
 "nbformat": 4,
 "nbformat_minor": 4
}
