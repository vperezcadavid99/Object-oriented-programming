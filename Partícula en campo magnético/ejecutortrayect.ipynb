{
 "cells": [
  {
   "cell_type": "code",
   "execution_count": null,
   "metadata": {},
   "outputs": [],
   "source": [
    "from matplotlib import projections\n",
    "import trayect as trayect\n",
    "import numpy as np\n",
    "import matplotlib.pyplot as plt\n",
    "\n",
    "# Start\n",
    "if __name__=='__main__':\n",
    "    print('Esta es una inicialización')\n",
    "    # Creación del arreglo de tiempo\n",
    "    t = np.arange(0,2,0.01)\n",
    "    # Se define el objeto \"electrón\"\n",
    "    electron=trayect.Trayect(600e-6,18.6*1.60e-19,np.pi/6,9.11e-31,-1.602e-19,t)\n",
    "    \n",
    "    posex=electron.x()\n",
    "    posey=electron.y()\n",
    "    posez=electron.z()\n",
    "    # Se define el objeto \"positrón\"\n",
    "    positron=trayect.Trayect(600e-6,18.6*1.60e-19,np.pi/6,9.11e-31,1.602e-19,t)\n",
    "    pospx=positron.x()\n",
    "    pospy=positron.y()\n",
    "    pospz=positron.z()\n",
    "    \n",
    "    # Se genera una gráfica 3D de la trayectoria\n",
    "    fig = plt.figure()\n",
    "    ax = plt.axes(projection='3d')\n",
    "    ax.plot3D(posex, posey, posez,color='purple',label='Electron')\n",
    "    ax.plot3D(pospx,pospy,pospz,color='orange',label='Positron')\n",
    "    ax.set_title('Particle Trajectory')\n",
    "    ax.legend()\n",
    "    plt.show()\n",
    "\n",
    "    # Se genera una gráfica de las coordenadas\n",
    "    helip=electron.heli()[0] # Retur first value\n",
    "    helin=electron.heli()[1] # Retur second value\n",
    "    phelip=positron.heli()[0] # Retur first value\n",
    "    phelin=positron.heli()[1] # Retur second value\n",
    "    fig= plt.figure()\n",
    "    ax = plt.axes(projection='3d')\n",
    "    ax.plot3D(helip, posey, posez,color='purple',label='Electron')\n",
    "    ax.plot3D(helin, posey, posez,color='purple')\n",
    "    ax.plot3D(phelip, posey, posez,color='orange',label='Positron')\n",
    "    ax.plot3D(phelin, posey, posez,color='orange')\n",
    "    ax.set_title('Coordinate space for electron and positron')\n",
    "    plt.legend()\n",
    "    plt.show()\n",
    "    \n",
    "\n",
    " \n",
    "\n",
    "\n",
    "\n",
    "    "
   ]
  }
 ],
 "metadata": {
  "kernelspec": {
   "display_name": "Python 3",
   "language": "python",
   "name": "python3"
  },
  "language_info": {
   "codemirror_mode": {
    "name": "ipython",
    "version": 3
   },
   "file_extension": ".py",
   "mimetype": "text/x-python",
   "name": "python",
   "nbconvert_exporter": "python",
   "pygments_lexer": "ipython3",
   "version": "3.8.3"
  }
 },
 "nbformat": 4,
 "nbformat_minor": 4
}
